{
 "cells": [
  {
   "cell_type": "code",
   "execution_count": 435,
   "metadata": {
    "_cell_guid": "b1076dfc-b9ad-4769-8c92-a6c4dae69d19",
    "_uuid": "8f2839f25d086af736a60e9eeb907d3b93b6e0e5",
    "execution": {
     "iopub.execute_input": "2025-05-14T18:34:57.860508Z",
     "iopub.status.busy": "2025-05-14T18:34:57.860078Z",
     "iopub.status.idle": "2025-05-14T18:34:57.868354Z",
     "shell.execute_reply": "2025-05-14T18:34:57.867313Z",
     "shell.execute_reply.started": "2025-05-14T18:34:57.860466Z"
    },
    "trusted": true
   },
   "outputs": [],
   "source": [
    "# This Python 3 environment comes with many helpful analytics libraries installed\n",
    "# It is defined by the kaggle/python Docker image: https://github.com/kaggle/docker-python\n",
    "# For example, here's several helpful packages to load\n",
    "\n",
    "import numpy as np # linear algebra\n",
    "import pandas as pd # data processing, CSV file I/O (e.g. pd.read_csv)\n",
    "import joblib"
   ]
  },
  {
   "cell_type": "code",
   "execution_count": 436,
   "metadata": {
    "execution": {
     "iopub.execute_input": "2025-05-14T18:35:01.769228Z",
     "iopub.status.busy": "2025-05-14T18:35:01.768936Z",
     "iopub.status.idle": "2025-05-14T18:35:01.790414Z",
     "shell.execute_reply": "2025-05-14T18:35:01.789700Z",
     "shell.execute_reply.started": "2025-05-14T18:35:01.769201Z"
    },
    "trusted": true
   },
   "outputs": [
    {
     "data": {
      "text/html": [
       "<div>\n",
       "<style scoped>\n",
       "    .dataframe tbody tr th:only-of-type {\n",
       "        vertical-align: middle;\n",
       "    }\n",
       "\n",
       "    .dataframe tbody tr th {\n",
       "        vertical-align: top;\n",
       "    }\n",
       "\n",
       "    .dataframe thead th {\n",
       "        text-align: right;\n",
       "    }\n",
       "</style>\n",
       "<table border=\"1\" class=\"dataframe\">\n",
       "  <thead>\n",
       "    <tr style=\"text-align: right;\">\n",
       "      <th></th>\n",
       "      <th>Pregnancies</th>\n",
       "      <th>Glucose</th>\n",
       "      <th>BloodPressure</th>\n",
       "      <th>SkinThickness</th>\n",
       "      <th>Insulin</th>\n",
       "      <th>BMI</th>\n",
       "      <th>DiabetesPedigreeFunction</th>\n",
       "      <th>Age</th>\n",
       "      <th>Outcome</th>\n",
       "    </tr>\n",
       "  </thead>\n",
       "  <tbody>\n",
       "    <tr>\n",
       "      <th>0</th>\n",
       "      <td>6</td>\n",
       "      <td>148</td>\n",
       "      <td>72</td>\n",
       "      <td>35</td>\n",
       "      <td>0</td>\n",
       "      <td>33.6</td>\n",
       "      <td>0.627</td>\n",
       "      <td>50</td>\n",
       "      <td>1</td>\n",
       "    </tr>\n",
       "    <tr>\n",
       "      <th>1</th>\n",
       "      <td>1</td>\n",
       "      <td>85</td>\n",
       "      <td>66</td>\n",
       "      <td>29</td>\n",
       "      <td>0</td>\n",
       "      <td>26.6</td>\n",
       "      <td>0.351</td>\n",
       "      <td>31</td>\n",
       "      <td>0</td>\n",
       "    </tr>\n",
       "    <tr>\n",
       "      <th>2</th>\n",
       "      <td>8</td>\n",
       "      <td>183</td>\n",
       "      <td>64</td>\n",
       "      <td>0</td>\n",
       "      <td>0</td>\n",
       "      <td>23.3</td>\n",
       "      <td>0.672</td>\n",
       "      <td>32</td>\n",
       "      <td>1</td>\n",
       "    </tr>\n",
       "    <tr>\n",
       "      <th>3</th>\n",
       "      <td>1</td>\n",
       "      <td>89</td>\n",
       "      <td>66</td>\n",
       "      <td>23</td>\n",
       "      <td>94</td>\n",
       "      <td>28.1</td>\n",
       "      <td>0.167</td>\n",
       "      <td>21</td>\n",
       "      <td>0</td>\n",
       "    </tr>\n",
       "    <tr>\n",
       "      <th>4</th>\n",
       "      <td>0</td>\n",
       "      <td>137</td>\n",
       "      <td>40</td>\n",
       "      <td>35</td>\n",
       "      <td>168</td>\n",
       "      <td>43.1</td>\n",
       "      <td>2.288</td>\n",
       "      <td>33</td>\n",
       "      <td>1</td>\n",
       "    </tr>\n",
       "  </tbody>\n",
       "</table>\n",
       "</div>"
      ],
      "text/plain": [
       "   Pregnancies  Glucose  BloodPressure  SkinThickness  Insulin   BMI  \\\n",
       "0            6      148             72             35        0  33.6   \n",
       "1            1       85             66             29        0  26.6   \n",
       "2            8      183             64              0        0  23.3   \n",
       "3            1       89             66             23       94  28.1   \n",
       "4            0      137             40             35      168  43.1   \n",
       "\n",
       "   DiabetesPedigreeFunction  Age  Outcome  \n",
       "0                     0.627   50        1  \n",
       "1                     0.351   31        0  \n",
       "2                     0.672   32        1  \n",
       "3                     0.167   21        0  \n",
       "4                     2.288   33        1  "
      ]
     },
     "execution_count": 436,
     "metadata": {},
     "output_type": "execute_result"
    }
   ],
   "source": [
    "import pandas as pd\n",
    "\n",
    "# We'll also import seaborn, a Python graphing library\n",
    "import warnings # current version of seaborn generates a bunch of warnings that we'll ignore\n",
    "warnings.filterwarnings(\"ignore\")\n",
    "import seaborn as sns\n",
    "import matplotlib.pyplot as plt\n",
    "sns.set(style=\"white\", color_codes=True)\n",
    "\n",
    "\n",
    "data=pd.read_csv('diabetes.csv')\n",
    "data.head()"
   ]
  },
  {
   "cell_type": "code",
   "execution_count": 437,
   "metadata": {
    "execution": {
     "iopub.execute_input": "2025-05-14T18:35:01.792372Z",
     "iopub.status.busy": "2025-05-14T18:35:01.792107Z",
     "iopub.status.idle": "2025-05-14T18:35:01.808046Z",
     "shell.execute_reply": "2025-05-14T18:35:01.807205Z",
     "shell.execute_reply.started": "2025-05-14T18:35:01.792352Z"
    },
    "trusted": true
   },
   "outputs": [
    {
     "name": "stdout",
     "output_type": "stream",
     "text": [
      "Pregnancies                   0\n",
      "Glucose                       5\n",
      "BloodPressure                35\n",
      "SkinThickness               227\n",
      "Insulin                     374\n",
      "BMI                          11\n",
      "DiabetesPedigreeFunction      0\n",
      "Age                           0\n",
      "Outcome                       0\n",
      "dtype: int64\n"
     ]
    }
   ],
   "source": [
    "diabetes_data_copy = data.copy(deep = True)\n",
    "diabetes_data_copy[['Glucose','BloodPressure','SkinThickness','Insulin','BMI']] = diabetes_data_copy[['Glucose','BloodPressure','SkinThickness','Insulin','BMI']].replace(0,np.nan)\n",
    "\n",
    "## showing the count of Nans\n",
    "print(diabetes_data_copy.isnull().sum())\n",
    "\n",
    "\n",
    "\n",
    "diabetes_data_copy['Glucose'].fillna(diabetes_data_copy['Glucose'].mean(), inplace = True)\n",
    "diabetes_data_copy['BloodPressure'].fillna(diabetes_data_copy['BloodPressure'].mean(), inplace = True)\n",
    "diabetes_data_copy['SkinThickness'].fillna(diabetes_data_copy['SkinThickness'].median(), inplace = True)\n",
    "diabetes_data_copy['Insulin'].fillna(diabetes_data_copy['Insulin'].median(), inplace = True)\n",
    "diabetes_data_copy['BMI'].fillna(diabetes_data_copy['BMI'].median(), inplace = True)\n",
    "\n"
   ]
  },
  {
   "cell_type": "markdown",
   "metadata": {},
   "source": [
    "# 1. MLP"
   ]
  },
  {
   "cell_type": "code",
   "execution_count": null,
   "metadata": {
    "execution": {
     "iopub.execute_input": "2025-05-14T18:35:01.809855Z",
     "iopub.status.busy": "2025-05-14T18:35:01.809140Z",
     "iopub.status.idle": "2025-05-14T18:35:04.257185Z",
     "shell.execute_reply": "2025-05-14T18:35:04.256057Z",
     "shell.execute_reply.started": "2025-05-14T18:35:01.809820Z"
    },
    "trusted": true
   },
   "outputs": [
    {
     "name": "stdout",
     "output_type": "stream",
     "text": [
      "=== Confusion Matrix ===\n",
      "[[148   3]\n",
      " [ 77   3]]\n",
      "\n",
      "=== Classification Report ===\n",
      "              precision    recall  f1-score   support\n",
      "\n",
      "           0       0.66      0.98      0.79       151\n",
      "           1       0.50      0.04      0.07        80\n",
      "\n",
      "    accuracy                           0.65       231\n",
      "   macro avg       0.58      0.51      0.43       231\n",
      "weighted avg       0.60      0.65      0.54       231\n",
      "\n",
      "\n",
      "Accuracy: 0.65\n",
      "\n",
      "Training set score: 0.65\n",
      "Test set score: 0.65\n"
     ]
    }
   ],
   "source": [
    "# Gerekli kütüphaneleri import edelim\n",
    "from sklearn.metrics import accuracy_score\n",
    "from sklearn.neural_network import MLPClassifier\n",
    "from sklearn.model_selection import train_test_split\n",
    "from sklearn.preprocessing import StandardScaler\n",
    "from sklearn.metrics import classification_report, confusion_matrix\n",
    "\n",
    "# 1. Split FIRST (to avoid data leakage)\n",
    "X = diabetes_data_copy.drop(\"Outcome\", axis=1)\n",
    "y = diabetes_data_copy[\"Outcome\"]\n",
    "X_train, X_test, y_train, y_test = train_test_split(X, y, test_size=0.3, random_state=42)\n",
    "\n",
    "# 2. Initialize and fit scaler ONLY on training data\n",
    "scaler = StandardScaler()\n",
    "X_train_scaled = scaler.fit_transform(X_train)  # Fit only on train\n",
    "X_test_scaled = scaler.transform(X_test)        # Transform test data\n",
    "\n",
    "joblib.dump(scaler, 'scaler.pkl')\n",
    "\n",
    "# 3. Create and train MLP\n",
    "mlp = MLPClassifier(\n",
    "    hidden_layer_sizes=(50, 50),\n",
    "    max_iter=5000,\n",
    "    alpha=0.0001,\n",
    "    activation='relu',\n",
    "    random_state=42,\n",
    "    early_stopping=True,  # Add early stopping\n",
    "    validation_fraction=0.1  # Use 10% of training for validation\n",
    ")\n",
    "\n",
    "# 4. Train the model\n",
    "mlp.fit(X_train_scaled, y_train)\n",
    "\n",
    "# 5. Evaluate\n",
    "predictions = mlp.predict(X_test_scaled)\n",
    "\n",
    "print(\"=== Confusion Matrix ===\")\n",
    "print(confusion_matrix(y_test, predictions))\n",
    "print(\"\\n=== Classification Report ===\")\n",
    "print(classification_report(y_test, predictions))\n",
    "print(f\"\\nAccuracy: {accuracy_score(y_test, predictions):.2f}\")\n",
    "\n",
    "# 6. Additional useful outputs\n",
    "print(\"\\nTraining set score: %.2f\" % mlp.score(X_train_scaled, y_train))\n",
    "print(\"Test set score: %.2f\" % mlp.score(X_test_scaled, y_test))"
   ]
  },
  {
   "cell_type": "markdown",
   "metadata": {},
   "source": [
    "## 1.1. MLP (PCA)"
   ]
  },
  {
   "cell_type": "code",
   "execution_count": null,
   "metadata": {
    "execution": {
     "iopub.execute_input": "2025-05-14T18:35:04.778954Z",
     "iopub.status.busy": "2025-05-14T18:35:04.778692Z",
     "iopub.status.idle": "2025-05-14T18:35:05.019893Z",
     "shell.execute_reply": "2025-05-14T18:35:05.019086Z",
     "shell.execute_reply.started": "2025-05-14T18:35:04.778934Z"
    },
    "trusted": true
   },
   "outputs": [
    {
     "name": "stdout",
     "output_type": "stream",
     "text": [
      "Original data shape: (768, 8)\n",
      "Reduced data shape: (537, 1)\n",
      "Explained variance ratio: [0.2824466]\n",
      "Specificity: 0.7815\n",
      "Doğruluk (Accuracy): 0.6840\n",
      "Duyarlılık (Sensitivity/Recall): 0.5000\n",
      "Kesinlik (Precision): 0.5479\n",
      "F1 Skoru: 0.5229\n"
     ]
    }
   ],
   "source": [
    "from sklearn.decomposition import PCA\n",
    "\n",
    "\n",
    "# Apply PCA\n",
    "n_components = 1  # Number of principal components to keep\n",
    "pca = PCA(n_components=n_components)\n",
    "X_train_pca = pca.fit_transform(X_train_scaled)\n",
    "X_test_pca = pca.transform(X_test_scaled)\n",
    "\n",
    "joblib.dump(pca, 'pca.pkl')\n",
    "\n",
    "print(\"Original data shape:\", X.shape)\n",
    "print(\"Reduced data shape:\", X_train_pca.shape)\n",
    "print(\"Explained variance ratio:\", pca.explained_variance_ratio_)\n",
    "\n",
    "\n",
    "# MLP modelini oluşturalım\n",
    "mlp = MLPClassifier(hidden_layer_sizes=(50, 50), max_iter=5000, random_state=42)\n",
    "# hidden_layer_sizes: Her bir tuple elemanı bir gizli katmanı ve nöron sayısını temsil eder\n",
    "# Bu örnekte 3 gizli katman, her birinde 10 nöron var\n",
    "\n",
    "# Modeli eğitelim\n",
    "mlp.fit(X_train_pca, y_train)\n",
    "\n",
    "# Tahminler yapalım\n",
    "predictions = mlp.predict(X_test_pca)\n",
    "\n",
    "# Confusion Matrix\n",
    "cm = confusion_matrix(y_test, predictions)\n",
    "\n",
    "tn, fp, fn, tp = cm.ravel()\n",
    "\n",
    "# Calculate specificity\n",
    "specificity = tn / (tn + fp)\n",
    "print(f\"Specificity: {specificity:.4f}\")\n",
    "\n",
    "from sklearn.metrics import accuracy_score\n",
    "accuracy = accuracy_score(y_test, predictions)\n",
    "print(f\"Doğruluk (Accuracy): {accuracy:.4f}\")\n",
    "\n",
    "from sklearn.metrics import recall_score\n",
    "sensitivity = recall_score(y_test, predictions)\n",
    "print(f\"Duyarlılık (Sensitivity/Recall): {sensitivity:.4f}\")\n",
    "\n",
    "from sklearn.metrics import precision_score\n",
    "precision = precision_score(y_test, predictions)\n",
    "print(f\"Kesinlik (Precision): {precision:.4f}\")\n",
    "\n",
    "from sklearn.metrics import f1_score\n",
    "f1 = f1_score(y_test, predictions)\n",
    "print(f\"F1 Skoru: {f1:.4f}\")"
   ]
  },
  {
   "cell_type": "markdown",
   "metadata": {},
   "source": [
    "## 1.3. MLP (LDA)"
   ]
  },
  {
   "cell_type": "code",
   "execution_count": null,
   "metadata": {
    "execution": {
     "iopub.execute_input": "2025-05-14T18:35:07.047353Z",
     "iopub.status.busy": "2025-05-14T18:35:07.047099Z",
     "iopub.status.idle": "2025-05-14T18:35:07.282532Z",
     "shell.execute_reply": "2025-05-14T18:35:07.281559Z",
     "shell.execute_reply.started": "2025-05-14T18:35:07.047332Z"
    },
    "trusted": true
   },
   "outputs": [
    {
     "name": "stdout",
     "output_type": "stream",
     "text": [
      "Original data shape: (768, 8)\n",
      "Reduced data shape: (537, 1)\n",
      "Specificity: 0.7815\n",
      "Doğruluk (Accuracy): 0.7273\n",
      "Duyarlılık (Sensitivity/Recall): 0.6250\n",
      "Kesinlik (Precision): 0.6024\n",
      "F1 Skoru: 0.6135\n"
     ]
    }
   ],
   "source": [
    "from sklearn.discriminant_analysis import LinearDiscriminantAnalysis\n",
    "from sklearn.preprocessing import StandardScaler\n",
    "import numpy as np\n",
    "\n",
    "\n",
    "# Apply LDA\n",
    "n_components = 1  # Number of components to keep (cannot be greater than n_classes - 1)\n",
    "lda = LinearDiscriminantAnalysis(n_components=n_components)\n",
    "X_train_lda = lda.fit_transform(X_train_scaled, y_train)\n",
    "X_test_lda = lda.transform(X_test_scaled)\n",
    "\n",
    "joblib.dump(lda, 'lda.pkl')\n",
    "\n",
    "print(\"Original data shape:\", X.shape)\n",
    "print(\"Reduced data shape:\", X_train_lda.shape)\n",
    "\n",
    "# MLP modelini oluşturalım\n",
    "mlp = MLPClassifier(hidden_layer_sizes=(50, 50), max_iter=5000, random_state=42)\n",
    "# hidden_layer_sizes: Her bir tuple elemanı bir gizli katmanı ve nöron sayısını temsil eder\n",
    "# Bu örnekte 3 gizli katman, her birinde 10 nöron var\n",
    "\n",
    "# Modeli eğitelim\n",
    "mlp.fit(X_train_lda, y_train)\n",
    "\n",
    "# Tahminler yapalım\n",
    "predictions = mlp.predict(X_test_lda)\n",
    "\n",
    "# Confusion Matrix\n",
    "cm = confusion_matrix(y_test, predictions)\n",
    "\n",
    "tn, fp, fn, tp = cm.ravel()\n",
    "\n",
    "# Calculate specificity\n",
    "specificity = tn / (tn + fp)\n",
    "print(f\"Specificity: {specificity:.4f}\")\n",
    "\n",
    "from sklearn.metrics import accuracy_score\n",
    "accuracy = accuracy_score(y_test, predictions)\n",
    "print(f\"Doğruluk (Accuracy): {accuracy:.4f}\")\n",
    "\n",
    "from sklearn.metrics import recall_score\n",
    "sensitivity = recall_score(y_test, predictions)\n",
    "print(f\"Duyarlılık (Sensitivity/Recall): {sensitivity:.4f}\")\n",
    "\n",
    "from sklearn.metrics import precision_score\n",
    "precision = precision_score(y_test, predictions)\n",
    "print(f\"Kesinlik (Precision): {precision:.4f}\")\n",
    "\n",
    "from sklearn.metrics import f1_score\n",
    "f1 = f1_score(y_test, predictions)\n",
    "print(f\"F1 Skoru: {f1:.4f}\")"
   ]
  },
  {
   "cell_type": "markdown",
   "metadata": {},
   "source": [
    "# 2. Decision Tree"
   ]
  },
  {
   "cell_type": "code",
   "execution_count": 441,
   "metadata": {
    "execution": {
     "iopub.execute_input": "2025-05-14T18:35:07.291503Z",
     "iopub.status.busy": "2025-05-14T18:35:07.291193Z",
     "iopub.status.idle": "2025-05-14T18:35:07.324711Z",
     "shell.execute_reply": "2025-05-14T18:35:07.323837Z",
     "shell.execute_reply.started": "2025-05-14T18:35:07.291474Z"
    },
    "trusted": true
   },
   "outputs": [
    {
     "name": "stdout",
     "output_type": "stream",
     "text": [
      "F1 Skoru: 0.6145\n",
      "Doğruluk (Accuracy): 0.7013\n",
      "Kesinlik (Precision): 0.5556\n",
      "Duyarlılık (Sensitivity/Recall): 0.6875\n",
      "Specificity: 0.7086\n"
     ]
    }
   ],
   "source": [
    "from sklearn.tree import DecisionTreeClassifier\n",
    "\n",
    "dt= DecisionTreeClassifier()\n",
    "dt.fit(X_train_scaled,y_train)\n",
    "\n",
    "# Make predictions on the testing set\n",
    "y_pred = dt.predict(X_test_scaled)\n",
    "\n",
    "# Confusion Matrix\n",
    "cm = confusion_matrix(y_test, y_pred)\n",
    "\n",
    "tn, fp, fn, tp = cm.ravel()\n",
    "\n",
    "f1 = f1_score(y_test, y_pred)\n",
    "print(f\"F1 Skoru: {f1:.4f}\")\n",
    "\n",
    "accuracy = accuracy_score(y_test, y_pred)\n",
    "print(f\"Doğruluk (Accuracy): {accuracy:.4f}\")\n",
    "\n",
    "precision = precision_score(y_test, y_pred)\n",
    "print(f\"Kesinlik (Precision): {precision:.4f}\")\n",
    "\n",
    "sensitivity = recall_score(y_test, y_pred)\n",
    "print(f\"Duyarlılık (Sensitivity/Recall): {sensitivity:.4f}\")\n",
    "\n",
    "specificity = tn / (tn + fp)\n",
    "print(f\"Specificity: {specificity:.4f}\")"
   ]
  },
  {
   "cell_type": "markdown",
   "metadata": {},
   "source": [
    "## 2.1. Decision Tree (PCA)"
   ]
  },
  {
   "cell_type": "code",
   "execution_count": 442,
   "metadata": {
    "execution": {
     "iopub.execute_input": "2025-05-14T18:35:07.339888Z",
     "iopub.status.busy": "2025-05-14T18:35:07.339614Z",
     "iopub.status.idle": "2025-05-14T18:35:07.366489Z",
     "shell.execute_reply": "2025-05-14T18:35:07.365602Z",
     "shell.execute_reply.started": "2025-05-14T18:35:07.339859Z"
    },
    "trusted": true
   },
   "outputs": [
    {
     "name": "stdout",
     "output_type": "stream",
     "text": [
      "F1 Skoru: 0.5000\n",
      "Doğruluk (Accuracy): 0.6364\n",
      "Kesinlik (Precision): 0.4773\n",
      "Duyarlılık (Sensitivity/Recall): 0.5250\n",
      "Specificity: 0.6954\n"
     ]
    }
   ],
   "source": [
    "\n",
    "from sklearn.tree import DecisionTreeClassifier\n",
    "\n",
    "dt= DecisionTreeClassifier()\n",
    "dt.fit(X_train_pca,y_train)\n",
    "\n",
    "\n",
    "# Make predictions on the testing set\n",
    "y_pred = dt.predict(X_test_pca)\n",
    "\n",
    "# Confusion Matrix\n",
    "cm = confusion_matrix(y_test, y_pred)\n",
    "\n",
    "tn, fp, fn, tp = cm.ravel()\n",
    "\n",
    "f1 = f1_score(y_test, y_pred)\n",
    "print(f\"F1 Skoru: {f1:.4f}\")\n",
    "\n",
    "accuracy = accuracy_score(y_test, y_pred)\n",
    "print(f\"Doğruluk (Accuracy): {accuracy:.4f}\")\n",
    "\n",
    "precision = precision_score(y_test, y_pred)\n",
    "print(f\"Kesinlik (Precision): {precision:.4f}\")\n",
    "\n",
    "sensitivity = recall_score(y_test, y_pred)\n",
    "print(f\"Duyarlılık (Sensitivity/Recall): {sensitivity:.4f}\")\n",
    "\n",
    "specificity = tn / (tn + fp)\n",
    "print(f\"Specificity: {specificity:.4f}\")"
   ]
  },
  {
   "cell_type": "markdown",
   "metadata": {},
   "source": [
    "## 2.3. Decision Tree (LDA)"
   ]
  },
  {
   "cell_type": "code",
   "execution_count": 443,
   "metadata": {
    "execution": {
     "iopub.execute_input": "2025-05-14T18:35:11.013421Z",
     "iopub.status.busy": "2025-05-14T18:35:11.013171Z",
     "iopub.status.idle": "2025-05-14T18:35:11.049651Z",
     "shell.execute_reply": "2025-05-14T18:35:11.048733Z",
     "shell.execute_reply.started": "2025-05-14T18:35:11.013399Z"
    },
    "trusted": true
   },
   "outputs": [
    {
     "name": "stdout",
     "output_type": "stream",
     "text": [
      "F1 Skoru: 0.6154\n",
      "Doğruluk (Accuracy): 0.7186\n",
      "Kesinlik (Precision): 0.5843\n",
      "Duyarlılık (Sensitivity/Recall): 0.6500\n",
      "Specificity: 0.7550\n"
     ]
    }
   ],
   "source": [
    "\n",
    "from sklearn.tree import DecisionTreeClassifier\n",
    "dt= DecisionTreeClassifier()\n",
    "dt.fit(X_train_lda,y_train)\n",
    "\n",
    "\n",
    "# Make predictions on the testing set\n",
    "y_pred = dt.predict(X_test_lda)\n",
    "\n",
    "# Confusion Matrix\n",
    "cm = confusion_matrix(y_test, y_pred)\n",
    "\n",
    "tn, fp, fn, tp = cm.ravel()\n",
    "\n",
    "f1 = f1_score(y_test, y_pred)\n",
    "print(f\"F1 Skoru: {f1:.4f}\")\n",
    "\n",
    "accuracy = accuracy_score(y_test, y_pred)\n",
    "print(f\"Doğruluk (Accuracy): {accuracy:.4f}\")\n",
    "\n",
    "precision = precision_score(y_test, y_pred)\n",
    "print(f\"Kesinlik (Precision): {precision:.4f}\")\n",
    "\n",
    "sensitivity = recall_score(y_test, y_pred)\n",
    "print(f\"Duyarlılık (Sensitivity/Recall): {sensitivity:.4f}\")\n",
    "\n",
    "specificity = tn / (tn + fp)\n",
    "print(f\"Specificity: {specificity:.4f}\")"
   ]
  },
  {
   "cell_type": "markdown",
   "metadata": {},
   "source": [
    "# 3. K-NEAREST NEIGHBOR"
   ]
  },
  {
   "cell_type": "code",
   "execution_count": 444,
   "metadata": {
    "execution": {
     "iopub.execute_input": "2025-05-14T18:35:11.051323Z",
     "iopub.status.busy": "2025-05-14T18:35:11.050701Z",
     "iopub.status.idle": "2025-05-14T18:35:11.083635Z",
     "shell.execute_reply": "2025-05-14T18:35:11.082749Z",
     "shell.execute_reply.started": "2025-05-14T18:35:11.051290Z"
    },
    "trusted": true
   },
   "outputs": [
    {
     "name": "stdout",
     "output_type": "stream",
     "text": [
      "F1 Skoru: 0.5389\n",
      "Doğruluk (Accuracy): 0.6667\n",
      "Kesinlik (Precision): 0.5172\n",
      "Duyarlılık (Sensitivity/Recall): 0.5625\n",
      "Specificity: 0.7219\n"
     ]
    }
   ],
   "source": [
    "\n",
    "from sklearn.neighbors import KNeighborsClassifier\n",
    "dt = KNeighborsClassifier(n_neighbors=1)\n",
    "dt.fit(X_train_scaled,y_train)\n",
    "\n",
    "# Make predictions on the testing set\n",
    "y_pred = dt.predict(X_test_scaled)\n",
    "\n",
    "# Confusion Matrix\n",
    "cm = confusion_matrix(y_test, y_pred)\n",
    "\n",
    "tn, fp, fn, tp = cm.ravel()\n",
    "\n",
    "f1 = f1_score(y_test, y_pred)\n",
    "print(f\"F1 Skoru: {f1:.4f}\")\n",
    "\n",
    "accuracy = accuracy_score(y_test, y_pred)\n",
    "print(f\"Doğruluk (Accuracy): {accuracy:.4f}\")\n",
    "\n",
    "precision = precision_score(y_test, y_pred)\n",
    "print(f\"Kesinlik (Precision): {precision:.4f}\")\n",
    "\n",
    "sensitivity = recall_score(y_test, y_pred)\n",
    "print(f\"Duyarlılık (Sensitivity/Recall): {sensitivity:.4f}\")\n",
    "\n",
    "specificity = tn / (tn + fp)\n",
    "print(f\"Specificity: {specificity:.4f}\")"
   ]
  },
  {
   "cell_type": "markdown",
   "metadata": {},
   "source": [
    "## 3.1. K-NEAREST NEIGHBOOR (PCA)"
   ]
  },
  {
   "cell_type": "code",
   "execution_count": 445,
   "metadata": {
    "execution": {
     "iopub.execute_input": "2025-05-14T18:35:11.084798Z",
     "iopub.status.busy": "2025-05-14T18:35:11.084502Z",
     "iopub.status.idle": "2025-05-14T18:35:11.121779Z",
     "shell.execute_reply": "2025-05-14T18:35:11.120861Z",
     "shell.execute_reply.started": "2025-05-14T18:35:11.084776Z"
    },
    "trusted": true
   },
   "outputs": [
    {
     "name": "stdout",
     "output_type": "stream",
     "text": [
      "F1 Skoru: 0.5000\n",
      "Doğruluk (Accuracy): 0.6364\n",
      "Kesinlik (Precision): 0.4773\n",
      "Duyarlılık (Sensitivity/Recall): 0.5250\n",
      "Specificity: 0.6954\n"
     ]
    }
   ],
   "source": [
    "from sklearn.neighbors import KNeighborsClassifier\n",
    "dt = KNeighborsClassifier(n_neighbors=1)\n",
    "dt.fit(X_train_pca,y_train)\n",
    "\n",
    "# Make predictions on the testing set\n",
    "y_pred = dt.predict(X_test_pca)\n",
    "\n",
    "# Confusion Matrix\n",
    "cm = confusion_matrix(y_test, y_pred)\n",
    "\n",
    "tn, fp, fn, tp = cm.ravel()\n",
    "\n",
    "f1 = f1_score(y_test, y_pred)\n",
    "print(f\"F1 Skoru: {f1:.4f}\")\n",
    "\n",
    "accuracy = accuracy_score(y_test, y_pred)\n",
    "print(f\"Doğruluk (Accuracy): {accuracy:.4f}\")\n",
    "\n",
    "precision = precision_score(y_test, y_pred)\n",
    "print(f\"Kesinlik (Precision): {precision:.4f}\")\n",
    "\n",
    "sensitivity = recall_score(y_test, y_pred)\n",
    "print(f\"Duyarlılık (Sensitivity/Recall): {sensitivity:.4f}\")\n",
    "\n",
    "specificity = tn / (tn + fp)\n",
    "print(f\"Specificity: {specificity:.4f}\")"
   ]
  },
  {
   "cell_type": "markdown",
   "metadata": {},
   "source": [
    "## 3.1. K-NEAREST NEIGHBOOR (LDA)"
   ]
  },
  {
   "cell_type": "code",
   "execution_count": 446,
   "metadata": {
    "execution": {
     "iopub.execute_input": "2025-05-14T18:35:12.952454Z",
     "iopub.status.busy": "2025-05-14T18:35:12.952173Z",
     "iopub.status.idle": "2025-05-14T18:35:12.987929Z",
     "shell.execute_reply": "2025-05-14T18:35:12.987149Z",
     "shell.execute_reply.started": "2025-05-14T18:35:12.952431Z"
    },
    "trusted": true
   },
   "outputs": [
    {
     "name": "stdout",
     "output_type": "stream",
     "text": [
      "F1 Skoru: 0.6154\n",
      "Doğruluk (Accuracy): 0.7186\n",
      "Kesinlik (Precision): 0.5843\n",
      "Duyarlılık (Sensitivity/Recall): 0.6500\n",
      "Specificity: 0.7550\n"
     ]
    }
   ],
   "source": [
    "from sklearn.neighbors import KNeighborsClassifier\n",
    "dt = KNeighborsClassifier(n_neighbors=1)\n",
    "dt.fit(X_train_lda,y_train)\n",
    "\n",
    "# Make predictions on the testing set\n",
    "y_pred = dt.predict(X_test_lda)\n",
    "\n",
    "# Confusion Matrix\n",
    "cm = confusion_matrix(y_test, y_pred)\n",
    "\n",
    "tn, fp, fn, tp = cm.ravel()\n",
    "\n",
    "f1 = f1_score(y_test, y_pred)\n",
    "print(f\"F1 Skoru: {f1:.4f}\")\n",
    "\n",
    "accuracy = accuracy_score(y_test, y_pred)\n",
    "print(f\"Doğruluk (Accuracy): {accuracy:.4f}\")\n",
    "\n",
    "precision = precision_score(y_test, y_pred)\n",
    "print(f\"Kesinlik (Precision): {precision:.4f}\")\n",
    "\n",
    "sensitivity = recall_score(y_test, y_pred)\n",
    "print(f\"Duyarlılık (Sensitivity/Recall): {sensitivity:.4f}\")\n",
    "\n",
    "specificity = tn / (tn + fp)\n",
    "print(f\"Specificity: {specificity:.4f}\")"
   ]
  },
  {
   "cell_type": "markdown",
   "metadata": {},
   "source": [
    "# 4. NAIVE BAYES"
   ]
  },
  {
   "cell_type": "code",
   "execution_count": 447,
   "metadata": {
    "execution": {
     "iopub.execute_input": "2025-05-14T18:35:12.989084Z",
     "iopub.status.busy": "2025-05-14T18:35:12.988800Z",
     "iopub.status.idle": "2025-05-14T18:35:13.014971Z",
     "shell.execute_reply": "2025-05-14T18:35:13.014089Z",
     "shell.execute_reply.started": "2025-05-14T18:35:12.989059Z"
    },
    "trusted": true
   },
   "outputs": [
    {
     "name": "stdout",
     "output_type": "stream",
     "text": [
      "F1 Skoru: 0.5795\n",
      "Doğruluk (Accuracy): 0.6797\n",
      "Kesinlik (Precision): 0.5312\n",
      "Duyarlılık (Sensitivity/Recall): 0.6375\n",
      "Specificity: 0.7020\n"
     ]
    }
   ],
   "source": [
    "\n",
    "from sklearn.naive_bayes import BernoulliNB\n",
    "dt = BernoulliNB()\n",
    "dt.fit(X_train_scaled,y_train)\n",
    "\n",
    "# Make predictions on the testing set\n",
    "y_pred = dt.predict(X_test_scaled)\n",
    "\n",
    "# Confusion Matrix\n",
    "cm = confusion_matrix(y_test, y_pred)\n",
    "\n",
    "tn, fp, fn, tp = cm.ravel()\n",
    "\n",
    "f1 = f1_score(y_test, y_pred)\n",
    "print(f\"F1 Skoru: {f1:.4f}\")\n",
    "\n",
    "accuracy = accuracy_score(y_test, y_pred)\n",
    "print(f\"Doğruluk (Accuracy): {accuracy:.4f}\")\n",
    "\n",
    "precision = precision_score(y_test, y_pred)\n",
    "print(f\"Kesinlik (Precision): {precision:.4f}\")\n",
    "\n",
    "sensitivity = recall_score(y_test, y_pred)\n",
    "print(f\"Duyarlılık (Sensitivity/Recall): {sensitivity:.4f}\")\n",
    "\n",
    "specificity = tn / (tn + fp)\n",
    "print(f\"Specificity: {specificity:.4f}\")"
   ]
  },
  {
   "cell_type": "markdown",
   "metadata": {},
   "source": [
    "## 4.1. NAIVE BAYES (PCA)"
   ]
  },
  {
   "cell_type": "code",
   "execution_count": 448,
   "metadata": {
    "execution": {
     "iopub.execute_input": "2025-05-14T18:35:13.016665Z",
     "iopub.status.busy": "2025-05-14T18:35:13.015948Z",
     "iopub.status.idle": "2025-05-14T18:35:13.044722Z",
     "shell.execute_reply": "2025-05-14T18:35:13.043864Z",
     "shell.execute_reply.started": "2025-05-14T18:35:13.016635Z"
    },
    "trusted": true
   },
   "outputs": [
    {
     "name": "stdout",
     "output_type": "stream",
     "text": [
      "F1 Skoru: 0.6373\n",
      "Doğruluk (Accuracy): 0.6797\n",
      "Kesinlik (Precision): 0.5242\n",
      "Duyarlılık (Sensitivity/Recall): 0.8125\n",
      "Specificity: 0.6093\n"
     ]
    },
    {
     "data": {
      "text/plain": [
       "['bayes_pca_model.pkl']"
      ]
     },
     "execution_count": 448,
     "metadata": {},
     "output_type": "execute_result"
    }
   ],
   "source": [
    "\n",
    "from sklearn.naive_bayes import BernoulliNB\n",
    "dt = BernoulliNB()\n",
    "dt.fit(X_train_pca,y_train)\n",
    "\n",
    "# Make predictions on the testing set\n",
    "y_pred = dt.predict(X_test_pca)\n",
    "\n",
    "# Confusion Matrix\n",
    "cm = confusion_matrix(y_test, y_pred)\n",
    "\n",
    "tn, fp, fn, tp = cm.ravel()\n",
    "\n",
    "f1 = f1_score(y_test, y_pred)\n",
    "print(f\"F1 Skoru: {f1:.4f}\")\n",
    "\n",
    "accuracy = accuracy_score(y_test, y_pred)\n",
    "print(f\"Doğruluk (Accuracy): {accuracy:.4f}\")\n",
    "\n",
    "precision = precision_score(y_test, y_pred)\n",
    "print(f\"Kesinlik (Precision): {precision:.4f}\")\n",
    "\n",
    "sensitivity = recall_score(y_test, y_pred)\n",
    "print(f\"Duyarlılık (Sensitivity/Recall): {sensitivity:.4f}\")\n",
    "\n",
    "specificity = tn / (tn + fp)\n",
    "print(f\"Specificity: {specificity:.4f}\")\n",
    "\n",
    "joblib.dump(dt, \"bayes_pca_model.pkl\")"
   ]
  },
  {
   "cell_type": "markdown",
   "metadata": {},
   "source": [
    "## 4.3. NAIVE BAYES (LDA)"
   ]
  },
  {
   "cell_type": "code",
   "execution_count": 449,
   "metadata": {
    "execution": {
     "iopub.execute_input": "2025-05-14T18:35:14.853435Z",
     "iopub.status.busy": "2025-05-14T18:35:14.853118Z",
     "iopub.status.idle": "2025-05-14T18:35:14.881475Z",
     "shell.execute_reply": "2025-05-14T18:35:14.880637Z",
     "shell.execute_reply.started": "2025-05-14T18:35:14.853407Z"
    },
    "trusted": true
   },
   "outputs": [
    {
     "name": "stdout",
     "output_type": "stream",
     "text": [
      "F1 Skoru: 0.6178\n",
      "Doğruluk (Accuracy): 0.6840\n",
      "Kesinlik (Precision): 0.5315\n",
      "Duyarlılık (Sensitivity/Recall): 0.7375\n",
      "Specificity: 0.6556\n"
     ]
    },
    {
     "data": {
      "text/plain": [
       "['bayes_lda_model.pkl']"
      ]
     },
     "execution_count": 449,
     "metadata": {},
     "output_type": "execute_result"
    }
   ],
   "source": [
    "\n",
    "from sklearn.naive_bayes import BernoulliNB\n",
    "dt = BernoulliNB()\n",
    "dt.fit(X_train_lda,y_train)\n",
    "\n",
    "# Make predictions on the testing set\n",
    "y_pred = dt.predict(X_test_lda)\n",
    "\n",
    "# Confusion Matrix\n",
    "cm = confusion_matrix(y_test, y_pred)\n",
    "\n",
    "tn, fp, fn, tp = cm.ravel()\n",
    "\n",
    "f1 = f1_score(y_test, y_pred)\n",
    "print(f\"F1 Skoru: {f1:.4f}\")\n",
    "\n",
    "accuracy = accuracy_score(y_test, y_pred)\n",
    "print(f\"Doğruluk (Accuracy): {accuracy:.4f}\")\n",
    "\n",
    "precision = precision_score(y_test, y_pred)\n",
    "print(f\"Kesinlik (Precision): {precision:.4f}\")\n",
    "\n",
    "sensitivity = recall_score(y_test, y_pred)\n",
    "print(f\"Duyarlılık (Sensitivity/Recall): {sensitivity:.4f}\")\n",
    "\n",
    "specificity = tn / (tn + fp)\n",
    "print(f\"Specificity: {specificity:.4f}\")\n",
    "\n",
    "joblib.dump(dt, \"bayes_lda_model.pkl\")\n"
   ]
  },
  {
   "cell_type": "markdown",
   "metadata": {},
   "source": [
    "# 5. SUPPORT VECTOR MACHINE"
   ]
  },
  {
   "cell_type": "code",
   "execution_count": 450,
   "metadata": {
    "execution": {
     "iopub.execute_input": "2025-05-14T18:35:14.882667Z",
     "iopub.status.busy": "2025-05-14T18:35:14.882409Z",
     "iopub.status.idle": "2025-05-14T18:35:14.923063Z",
     "shell.execute_reply": "2025-05-14T18:35:14.922082Z",
     "shell.execute_reply.started": "2025-05-14T18:35:14.882648Z"
    },
    "trusted": true
   },
   "outputs": [
    {
     "name": "stdout",
     "output_type": "stream",
     "text": [
      "F1 Skoru: 0.6000\n",
      "Doğruluk (Accuracy): 0.7403\n",
      "Kesinlik (Precision): 0.6429\n",
      "Duyarlılık (Sensitivity/Recall): 0.5625\n",
      "Specificity: 0.8344\n"
     ]
    }
   ],
   "source": [
    "from sklearn.svm import SVC\n",
    "from sklearn.model_selection import train_test_split\n",
    "from sklearn.metrics import accuracy_score, confusion_matrix\n",
    "import pandas as pd\n",
    "\n",
    "# 4. Initialize and Train SVC Model\n",
    "model = SVC(random_state=42)\n",
    "model.fit(X_train_scaled, y_train)\n",
    "\n",
    "# 5. Make Predictions\n",
    "y_pred = model.predict(X_test_scaled)\n",
    "\n",
    "# Confusion Matrix\n",
    "cm = confusion_matrix(y_test, y_pred)\n",
    "\n",
    "tn, fp, fn, tp = cm.ravel()\n",
    "\n",
    "f1 = f1_score(y_test, y_pred)\n",
    "print(f\"F1 Skoru: {f1:.4f}\")\n",
    "\n",
    "accuracy = accuracy_score(y_test, y_pred)\n",
    "print(f\"Doğruluk (Accuracy): {accuracy:.4f}\")\n",
    "\n",
    "precision = precision_score(y_test, y_pred)\n",
    "print(f\"Kesinlik (Precision): {precision:.4f}\")\n",
    "\n",
    "sensitivity = recall_score(y_test, y_pred)\n",
    "print(f\"Duyarlılık (Sensitivity/Recall): {sensitivity:.4f}\")\n",
    "\n",
    "specificity = tn / (tn + fp)\n",
    "print(f\"Specificity: {specificity:.4f}\")"
   ]
  },
  {
   "cell_type": "markdown",
   "metadata": {},
   "source": [
    "## 5.1. SUPPORT VECTOR MACHINE (PCA)"
   ]
  },
  {
   "cell_type": "code",
   "execution_count": 451,
   "metadata": {
    "execution": {
     "iopub.execute_input": "2025-05-14T18:35:14.924240Z",
     "iopub.status.busy": "2025-05-14T18:35:14.923957Z",
     "iopub.status.idle": "2025-05-14T18:35:14.963327Z",
     "shell.execute_reply": "2025-05-14T18:35:14.962230Z",
     "shell.execute_reply.started": "2025-05-14T18:35:14.924219Z"
    },
    "trusted": true
   },
   "outputs": [
    {
     "name": "stdout",
     "output_type": "stream",
     "text": [
      "F1 Skoru: 0.5235\n",
      "Doğruluk (Accuracy): 0.6926\n",
      "Kesinlik (Precision): 0.5652\n",
      "Duyarlılık (Sensitivity/Recall): 0.4875\n",
      "Specificity: 0.8013\n"
     ]
    }
   ],
   "source": [
    "\n",
    "# 4. Initialize and Train SVC Model\n",
    "model = SVC(random_state=42)\n",
    "model.fit(X_train_pca, y_train)\n",
    "\n",
    "# 5. Make Predictions\n",
    "y_pred = model.predict(X_test_pca)\n",
    "\n",
    "# Confusion Matrix\n",
    "cm = confusion_matrix(y_test, y_pred)\n",
    "\n",
    "tn, fp, fn, tp = cm.ravel()\n",
    "\n",
    "f1 = f1_score(y_test, y_pred)\n",
    "print(f\"F1 Skoru: {f1:.4f}\")\n",
    "\n",
    "accuracy = accuracy_score(y_test, y_pred)\n",
    "print(f\"Doğruluk (Accuracy): {accuracy:.4f}\")\n",
    "\n",
    "precision = precision_score(y_test, y_pred)\n",
    "print(f\"Kesinlik (Precision): {precision:.4f}\")\n",
    "\n",
    "sensitivity = recall_score(y_test, y_pred)\n",
    "print(f\"Duyarlılık (Sensitivity/Recall): {sensitivity:.4f}\")\n",
    "\n",
    "specificity = tn / (tn + fp)\n",
    "print(f\"Specificity: {specificity:.4f}\")"
   ]
  },
  {
   "cell_type": "markdown",
   "metadata": {},
   "source": [
    "## 5.3. SUPPORT VECTOR MACHINE (LDA)"
   ]
  },
  {
   "cell_type": "code",
   "execution_count": 452,
   "metadata": {
    "execution": {
     "iopub.execute_input": "2025-05-14T18:35:16.804518Z",
     "iopub.status.busy": "2025-05-14T18:35:16.803767Z",
     "iopub.status.idle": "2025-05-14T18:35:16.840732Z",
     "shell.execute_reply": "2025-05-14T18:35:16.839921Z",
     "shell.execute_reply.started": "2025-05-14T18:35:16.804485Z"
    },
    "trusted": true
   },
   "outputs": [
    {
     "name": "stdout",
     "output_type": "stream",
     "text": [
      "F1 Skoru: 0.6144\n",
      "Doğruluk (Accuracy): 0.7446\n",
      "Kesinlik (Precision): 0.6438\n",
      "Duyarlılık (Sensitivity/Recall): 0.5875\n",
      "Specificity: 0.8278\n"
     ]
    },
    {
     "data": {
      "text/plain": [
       "['svm_lda_model.pkl']"
      ]
     },
     "execution_count": 452,
     "metadata": {},
     "output_type": "execute_result"
    }
   ],
   "source": [
    "\n",
    "# 4. Initialize and Train SVC Model\n",
    "model = SVC(kernel='linear', random_state=42)\n",
    "model.fit(X_train_lda, y_train)\n",
    "\n",
    "# 5. Make Predictions\n",
    "y_pred = model.predict(X_test_lda)\n",
    "\n",
    "# Confusion Matrix\n",
    "cm = confusion_matrix(y_test, y_pred)\n",
    "\n",
    "tn, fp, fn, tp = cm.ravel()\n",
    "\n",
    "f1 = f1_score(y_test, y_pred)\n",
    "print(f\"F1 Skoru: {f1:.4f}\")\n",
    "\n",
    "accuracy = accuracy_score(y_test, y_pred)\n",
    "print(f\"Doğruluk (Accuracy): {accuracy:.4f}\")\n",
    "\n",
    "precision = precision_score(y_test, y_pred)\n",
    "print(f\"Kesinlik (Precision): {precision:.4f}\")\n",
    "\n",
    "sensitivity = recall_score(y_test, y_pred)\n",
    "print(f\"Duyarlılık (Sensitivity/Recall): {sensitivity:.4f}\")\n",
    "\n",
    "specificity = tn / (tn + fp)\n",
    "print(f\"Specificity: {specificity:.4f}\")\n",
    "\n",
    "joblib.dump(model, \"svm_lda_model.pkl\")"
   ]
  },
  {
   "cell_type": "markdown",
   "metadata": {},
   "source": [
    "# 6. LOGISTIC REGRESSION"
   ]
  },
  {
   "cell_type": "code",
   "execution_count": 453,
   "metadata": {
    "execution": {
     "iopub.execute_input": "2025-05-14T18:35:16.841904Z",
     "iopub.status.busy": "2025-05-14T18:35:16.841632Z",
     "iopub.status.idle": "2025-05-14T18:35:16.895400Z",
     "shell.execute_reply": "2025-05-14T18:35:16.894682Z",
     "shell.execute_reply.started": "2025-05-14T18:35:16.841881Z"
    },
    "trusted": true
   },
   "outputs": [
    {
     "name": "stdout",
     "output_type": "stream",
     "text": [
      "F1 Skoru: 0.6092\n",
      "Doğruluk (Accuracy): 0.7056\n",
      "Kesinlik (Precision): 0.5638\n",
      "Duyarlılık (Sensitivity/Recall): 0.6625\n",
      "Specificity: 0.7285\n"
     ]
    },
    {
     "data": {
      "text/plain": [
       "['lr_model.pkl']"
      ]
     },
     "execution_count": 453,
     "metadata": {},
     "output_type": "execute_result"
    }
   ],
   "source": [
    "from sklearn.utils import class_weight\n",
    "\n",
    "# Class weight hesapla\n",
    "classes_weights = class_weight.compute_class_weight('balanced', \n",
    "                                                 classes=np.unique(y_train), \n",
    "                                                 y=y_train)\n",
    "weights = {0: classes_weights[0], 1: classes_weights[1]}\n",
    "\n",
    "from sklearn.linear_model import LogisticRegression\n",
    "dt = LogisticRegression(random_state=0, class_weight=weights)\n",
    "dt.fit(X_train_scaled,y_train)\n",
    "\n",
    "# Make predictions on the testing set\n",
    "y_pred = dt.predict(X_test_scaled)\n",
    "\n",
    "# Confusion Matrix\n",
    "cm = confusion_matrix(y_test, y_pred)\n",
    "\n",
    "tn, fp, fn, tp = cm.ravel()\n",
    "\n",
    "f1 = f1_score(y_test, y_pred)\n",
    "print(f\"F1 Skoru: {f1:.4f}\")\n",
    "\n",
    "accuracy = accuracy_score(y_test, y_pred)\n",
    "print(f\"Doğruluk (Accuracy): {accuracy:.4f}\")\n",
    "\n",
    "precision = precision_score(y_test, y_pred)\n",
    "print(f\"Kesinlik (Precision): {precision:.4f}\")\n",
    "\n",
    "sensitivity = recall_score(y_test, y_pred)\n",
    "print(f\"Duyarlılık (Sensitivity/Recall): {sensitivity:.4f}\")\n",
    "\n",
    "specificity = tn / (tn + fp)\n",
    "print(f\"Specificity: {specificity:.4f}\")\n",
    "\n",
    "joblib.dump(dt, \"lr_model.pkl\")"
   ]
  },
  {
   "cell_type": "markdown",
   "metadata": {},
   "source": [
    "## 6.1. LOGISTIC REGRESSION (PCA)"
   ]
  },
  {
   "cell_type": "code",
   "execution_count": 454,
   "metadata": {
    "execution": {
     "iopub.execute_input": "2025-05-14T18:35:16.896345Z",
     "iopub.status.busy": "2025-05-14T18:35:16.896081Z",
     "iopub.status.idle": "2025-05-14T18:35:16.938942Z",
     "shell.execute_reply": "2025-05-14T18:35:16.938260Z",
     "shell.execute_reply.started": "2025-05-14T18:35:16.896323Z"
    },
    "trusted": true
   },
   "outputs": [
    {
     "name": "stdout",
     "output_type": "stream",
     "text": [
      "F1 Skoru: 0.5200\n",
      "Doğruluk (Accuracy): 0.6883\n",
      "Kesinlik (Precision): 0.5571\n",
      "Duyarlılık (Sensitivity/Recall): 0.4875\n",
      "Specificity: 0.7947\n"
     ]
    }
   ],
   "source": [
    "\n",
    "dt = LogisticRegression(random_state=0)\n",
    "dt.fit(X_train_pca,y_train)\n",
    "\n",
    "# Make predictions on the testing set\n",
    "y_pred = dt.predict(X_test_pca)\n",
    "\n",
    "# Confusion Matrix\n",
    "cm = confusion_matrix(y_test, y_pred)\n",
    "\n",
    "tn, fp, fn, tp = cm.ravel()\n",
    "\n",
    "f1 = f1_score(y_test, y_pred)\n",
    "print(f\"F1 Skoru: {f1:.4f}\")\n",
    "\n",
    "accuracy = accuracy_score(y_test, y_pred)\n",
    "print(f\"Doğruluk (Accuracy): {accuracy:.4f}\")\n",
    "\n",
    "precision = precision_score(y_test, y_pred)\n",
    "print(f\"Kesinlik (Precision): {precision:.4f}\")\n",
    "\n",
    "sensitivity = recall_score(y_test, y_pred)\n",
    "print(f\"Duyarlılık (Sensitivity/Recall): {sensitivity:.4f}\")\n",
    "\n",
    "specificity = tn / (tn + fp)\n",
    "print(f\"Specificity: {specificity:.4f}\")"
   ]
  },
  {
   "cell_type": "markdown",
   "metadata": {},
   "source": [
    "## 6.3. LOGISTIC REGRESSION (LDA)"
   ]
  },
  {
   "cell_type": "code",
   "execution_count": 455,
   "metadata": {
    "execution": {
     "iopub.execute_input": "2025-05-14T18:35:18.918100Z",
     "iopub.status.busy": "2025-05-14T18:35:18.917803Z",
     "iopub.status.idle": "2025-05-14T18:35:18.958992Z",
     "shell.execute_reply": "2025-05-14T18:35:18.958098Z",
     "shell.execute_reply.started": "2025-05-14T18:35:18.918076Z"
    },
    "trusted": true
   },
   "outputs": [
    {
     "name": "stdout",
     "output_type": "stream",
     "text": [
      "{np.int64(0), np.int64(1)}\n",
      "F1 Skoru: 0.6104\n",
      "Doğruluk (Accuracy): 0.7403\n",
      "Kesinlik (Precision): 0.6351\n",
      "Duyarlılık (Sensitivity/Recall): 0.5875\n",
      "Specificity: 0.8212\n"
     ]
    },
    {
     "data": {
      "text/plain": [
       "['lr_lda_model.pkl']"
      ]
     },
     "execution_count": 455,
     "metadata": {},
     "output_type": "execute_result"
    }
   ],
   "source": [
    "\n",
    "dt = LogisticRegression(random_state=0)\n",
    "dt.fit(X_train_lda,y_train)\n",
    "\n",
    "# Make predictions on the testing set\n",
    "y_pred = dt.predict(X_test_lda)\n",
    "print(set(y_pred))\n",
    "\n",
    "# Confusion Matrix\n",
    "cm = confusion_matrix(y_test, y_pred)\n",
    "\n",
    "tn, fp, fn, tp = cm.ravel()\n",
    "\n",
    "f1 = f1_score(y_test, y_pred)\n",
    "print(f\"F1 Skoru: {f1:.4f}\")\n",
    "\n",
    "accuracy = accuracy_score(y_test, y_pred)\n",
    "print(f\"Doğruluk (Accuracy): {accuracy:.4f}\")\n",
    "\n",
    "precision = precision_score(y_test, y_pred)\n",
    "print(f\"Kesinlik (Precision): {precision:.4f}\")\n",
    "\n",
    "sensitivity = recall_score(y_test, y_pred)\n",
    "print(f\"Duyarlılık (Sensitivity/Recall): {sensitivity:.4f}\")\n",
    "\n",
    "specificity = tn / (tn + fp)\n",
    "print(f\"Specificity: {specificity:.4f}\")\n",
    "\n",
    "joblib.dump(dt, \"lr_lda_model.pkl\")\n",
    " \n",
    "\n"
   ]
  }
 ],
 "metadata": {
  "kaggle": {
   "accelerator": "none",
   "dataSources": [
    {
     "datasetId": 228,
     "sourceId": 482,
     "sourceType": "datasetVersion"
    }
   ],
   "dockerImageVersionId": 31012,
   "isGpuEnabled": false,
   "isInternetEnabled": true,
   "language": "python",
   "sourceType": "notebook"
  },
  "kernelspec": {
   "display_name": "myenv",
   "language": "python",
   "name": "python3"
  },
  "language_info": {
   "codemirror_mode": {
    "name": "ipython",
    "version": 3
   },
   "file_extension": ".py",
   "mimetype": "text/x-python",
   "name": "python",
   "nbconvert_exporter": "python",
   "pygments_lexer": "ipython3",
   "version": "3.12.9"
  }
 },
 "nbformat": 4,
 "nbformat_minor": 4
}
